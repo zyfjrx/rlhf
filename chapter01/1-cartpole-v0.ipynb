{
 "cells": [
  {
   "cell_type": "code",
   "id": "initial_id",
   "metadata": {
    "collapsed": true,
    "ExecuteTime": {
     "end_time": "2025-09-18T07:41:13.709182Z",
     "start_time": "2025-09-18T07:41:13.397161Z"
    }
   },
   "source": [
    "import numpy as np\n",
    "import gym\n",
    "import time\n",
    "import matplotlib.pyplot as plt\n",
    "from IPython.display import clear_output"
   ],
   "outputs": [
    {
     "name": "stderr",
     "output_type": "stream",
     "text": [
      "Gym has been unmaintained since 2022 and does not support NumPy 2.0 amongst other critical functionality.\n",
      "Please upgrade to Gymnasium, the maintained drop-in replacement of Gym, or contact the authors of your software and request that they upgrade.\n",
      "See the migration guide at https://gymnasium.farama.org/introduction/migration_guide/ for additional information.\n"
     ]
    }
   ],
   "execution_count": 1
  },
  {
   "metadata": {
    "ExecuteTime": {
     "end_time": "2025-09-18T07:41:30.362825Z",
     "start_time": "2025-09-18T07:41:30.351944Z"
    }
   },
   "cell_type": "code",
   "source": "env = gym.make('CartPole-v0')",
   "id": "9514b1c54d38f3e3",
   "outputs": [
    {
     "name": "stderr",
     "output_type": "stream",
     "text": [
      "/opt/anaconda3/envs/rlhf/lib/python3.10/site-packages/gym/envs/registration.py:593: UserWarning: \u001B[33mWARN: The environment CartPole-v0 is out of date. You should consider upgrading to version `v1`.\u001B[0m\n",
      "  logger.warn(\n",
      "/opt/anaconda3/envs/rlhf/lib/python3.10/site-packages/gym/core.py:317: DeprecationWarning: \u001B[33mWARN: Initializing wrapper in old step API which returns one bool instead of two. It is recommended to set `new_step_api=True` to use new step API. This will be the default behaviour in future.\u001B[0m\n",
      "  deprecation(\n",
      "/opt/anaconda3/envs/rlhf/lib/python3.10/site-packages/gym/wrappers/step_api_compatibility.py:39: DeprecationWarning: \u001B[33mWARN: Initializing environment in old step API which returns one bool instead of two. It is recommended to set `new_step_api=True` to use new step API. This will be the default behaviour in future.\u001B[0m\n",
      "  deprecation(\n"
     ]
    }
   ],
   "execution_count": 2
  },
  {
   "metadata": {
    "ExecuteTime": {
     "end_time": "2025-09-18T07:41:44.248576Z",
     "start_time": "2025-09-18T07:41:44.246311Z"
    }
   },
   "cell_type": "code",
   "source": "state = env.reset()",
   "id": "8c7f5063977a8f73",
   "outputs": [],
   "execution_count": 3
  },
  {
   "metadata": {
    "ExecuteTime": {
     "end_time": "2025-09-18T07:41:54.134286Z",
     "start_time": "2025-09-18T07:41:54.129081Z"
    }
   },
   "cell_type": "code",
   "source": "state",
   "id": "8079911994d556dd",
   "outputs": [
    {
     "data": {
      "text/plain": [
       "array([-0.01206679,  0.01488935,  0.00652212,  0.03285437], dtype=float32)"
      ]
     },
     "execution_count": 4,
     "metadata": {},
     "output_type": "execute_result"
    }
   ],
   "execution_count": 4
  },
  {
   "metadata": {
    "ExecuteTime": {
     "end_time": "2025-09-18T07:42:17.630466Z",
     "start_time": "2025-09-18T07:42:17.628427Z"
    }
   },
   "cell_type": "code",
   "source": "done = False",
   "id": "76868ffc2f29b137",
   "outputs": [],
   "execution_count": 5
  },
  {
   "metadata": {
    "ExecuteTime": {
     "end_time": "2025-09-18T07:42:18.750925Z",
     "start_time": "2025-09-18T07:42:18.748796Z"
    }
   },
   "cell_type": "code",
   "source": "action_desc = {0:'向左推',1:'向右推'}",
   "id": "2625c925268480c0",
   "outputs": [],
   "execution_count": 6
  },
  {
   "metadata": {
    "ExecuteTime": {
     "end_time": "2025-09-18T07:42:28.482616Z",
     "start_time": "2025-09-18T07:42:28.480506Z"
    }
   },
   "cell_type": "code",
   "source": [
    "# 回报 = 总的奖励\n",
    "total_reward = 0.0"
   ],
   "id": "73edfc3dea7fdc82",
   "outputs": [],
   "execution_count": 7
  },
  {
   "metadata": {
    "ExecuteTime": {
     "end_time": "2025-09-18T07:42:39.571756Z",
     "start_time": "2025-09-18T07:42:39.569395Z"
    }
   },
   "cell_type": "code",
   "source": [
    "# 折扣因子\n",
    "gamma = 0.99"
   ],
   "id": "ddb89d671f908756",
   "outputs": [],
   "execution_count": 8
  },
  {
   "metadata": {},
   "cell_type": "code",
   "source": [
    "reward_list = []\n",
    "while not done:\n",
    "    # 清除cell的输出\n",
    "    clear_output(wait=True)\n",
    "    plt.imshow(env.render(mode='rgb_array'))\n",
    "    plt.show()\n",
    "    action = np.random.choice([0, 1])\n",
    "    next_state, reward, done, info = env.step(action)\n",
    "    print(\n",
    "        f\"采取动作：{action_desc.get(action, '未知动作')}，获得奖励：{reward}，转移到下一个状态：{next_state}\")\n",
    "    reward_list.append(reward)\n",
    "    time.sleep(0.5)"
   ],
   "id": "d9df4e1c4bd655be",
   "execution_count": 9,
   "outputs": [
    {
     "name": "stdout",
     "output_type": "stream",
     "text": [
      "采取动作：向左推，获得奖励：1.0，转移到下一个状态：[ 0.14465372  0.80477625 -0.22160594 -1.3748741 ]\n"
     ]
    }
   ]
  },
  {
   "metadata": {
    "ExecuteTime": {
     "end_time": "2025-09-18T07:44:12.314190Z",
     "start_time": "2025-09-18T07:44:12.212674Z"
    }
   },
   "cell_type": "code",
   "source": [
    "# 这里要注意回报是如何逆序计算的\n",
    "for r in reward_list[::-1]:\n",
    "    total_reward = r + gamma * total_reward\n",
    "\n",
    "print('回报（收益）：', total_reward)\n",
    "env.close()"
   ],
   "id": "9dd582215dbb8eca",
   "outputs": [
    {
     "name": "stdout",
     "output_type": "stream",
     "text": [
      "回报（收益）： 13.12541872310217\n"
     ]
    }
   ],
   "execution_count": 10
  },
  {
   "metadata": {
    "ExecuteTime": {
     "end_time": "2025-09-18T07:44:25.244796Z",
     "start_time": "2025-09-18T07:44:25.242077Z"
    }
   },
   "cell_type": "code",
   "source": "print(len(reward_list))",
   "id": "5044d76c8f9bfde",
   "outputs": [
    {
     "name": "stdout",
     "output_type": "stream",
     "text": [
      "14\n"
     ]
    }
   ],
   "execution_count": 11
  }
 ],
 "metadata": {
  "kernelspec": {
   "display_name": "Python 3",
   "language": "python",
   "name": "python3"
  },
  "language_info": {
   "codemirror_mode": {
    "name": "ipython",
    "version": 2
   },
   "file_extension": ".py",
   "mimetype": "text/x-python",
   "name": "python",
   "nbconvert_exporter": "python",
   "pygments_lexer": "ipython2",
   "version": "2.7.6"
  }
 },
 "nbformat": 4,
 "nbformat_minor": 5
}
