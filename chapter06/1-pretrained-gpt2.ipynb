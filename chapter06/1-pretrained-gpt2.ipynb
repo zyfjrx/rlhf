{
 "cells": [
  {
   "cell_type": "code",
   "id": "initial_id",
   "metadata": {
    "collapsed": true,
    "ExecuteTime": {
     "end_time": "2025-09-25T01:41:58.349041Z",
     "start_time": "2025-09-25T01:41:53.743020Z"
    }
   },
   "source": [
    "from transformers import AutoModelForCausalLM, AutoTokenizer\n",
    "model_path = '/Users/zhangyf/llm/gpt2'\n",
    "tokenizer = AutoTokenizer.from_pretrained(model_path)\n",
    "model = AutoModelForCausalLM.from_pretrained(model_path)\n",
    "# 打印模型的参数数量\n",
    "print(sum(p.numel() for p in model.parameters()))"
   ],
   "outputs": [
    {
     "name": "stdout",
     "output_type": "stream",
     "text": [
      "124439808\n"
     ]
    }
   ],
   "execution_count": 1
  },
  {
   "metadata": {
    "ExecuteTime": {
     "end_time": "2025-09-25T01:42:36.165292Z",
     "start_time": "2025-09-25T01:42:36.159496Z"
    }
   },
   "cell_type": "code",
   "source": [
    "text = \"Hello, this is the first step of RLHF training.\"\n",
    "tokens = tokenizer(text)\n",
    "print(tokens)"
   ],
   "id": "2d046f0134f32e5c",
   "outputs": [
    {
     "name": "stdout",
     "output_type": "stream",
     "text": [
      "{'input_ids': [15496, 11, 428, 318, 262, 717, 2239, 286, 45715, 29567, 3047, 13], 'attention_mask': [1, 1, 1, 1, 1, 1, 1, 1, 1, 1, 1, 1]}\n"
     ]
    }
   ],
   "execution_count": 2
  },
  {
   "metadata": {
    "ExecuteTime": {
     "end_time": "2025-09-25T01:43:25.506504Z",
     "start_time": "2025-09-25T01:43:25.502617Z"
    }
   },
   "cell_type": "code",
   "source": "print(tokenizer.decode(tokens['input_ids']))",
   "id": "828e955c241ed37c",
   "outputs": [
    {
     "name": "stdout",
     "output_type": "stream",
     "text": [
      "Hello, this is the first step of RLHF training.\n"
     ]
    }
   ],
   "execution_count": 3
  },
  {
   "metadata": {
    "ExecuteTime": {
     "end_time": "2025-09-25T01:43:50.768594Z",
     "start_time": "2025-09-25T01:43:50.765184Z"
    }
   },
   "cell_type": "code",
   "source": [
    "texts = [\n",
    "    'Hello, this is the first step of RLHF training.',\n",
    "    'I have a dog',\n",
    "    'I also have a cat'\n",
    "]\n",
    "tokens_obj = tokenizer(texts)\n",
    "\n",
    "for tokens in tokens_obj['input_ids']:\n",
    "    print(tokenizer.decode(tokens))"
   ],
   "id": "e597b224ab73eea5",
   "outputs": [
    {
     "name": "stdout",
     "output_type": "stream",
     "text": [
      "Hello, this is the first step of RLHF training.\n",
      "I have a dog\n",
      "I also have a cat\n"
     ]
    }
   ],
   "execution_count": 4
  },
  {
   "metadata": {
    "ExecuteTime": {
     "end_time": "2025-09-25T01:47:54.630006Z",
     "start_time": "2025-09-25T01:47:53.692440Z"
    }
   },
   "cell_type": "code",
   "source": [
    "from transformers import pipeline, set_seed\n",
    "from pprint import pprint\n",
    "# 生成式任务\n",
    "g = pipeline('text-generation', model=model_path)\n",
    "set_seed(42)\n",
    "# 给定提示词，生成完整内容\n",
    "# 下面的输出，是基本上没有什么意义的。这也符合预训练大模型的特点。是一块没有被打磨过的璞玉。\n",
    "pprint(g(\"this is a\", max_length=30, num_return_sequences=1))"
   ],
   "id": "6c5ef5563be33ae6",
   "outputs": [
    {
     "name": "stderr",
     "output_type": "stream",
     "text": [
      "Device set to use mps:0\n",
      "Truncation was not explicitly activated but `max_length` is provided a specific value, please use `truncation=True` to explicitly truncate examples to max length. Defaulting to 'longest_first' truncation strategy. If you encode pairs of sequences (GLUE-style) with the tokenizer you can select this strategy more precisely by providing a specific strategy to `truncation`.\n",
      "Setting `pad_token_id` to `eos_token_id`:50256 for open-end generation.\n",
      "Both `max_new_tokens` (=256) and `max_length`(=30) seem to have been set. `max_new_tokens` will take precedence. Please refer to the documentation for more information. (https://huggingface.co/docs/transformers/main/en/main_classes/text_generation)\n"
     ]
    },
    {
     "name": "stdout",
     "output_type": "stream",
     "text": [
      "[{'generated_text': 'this is a bit of a stretch, but I think you can see the '\n",
      "                    'full impact that what we\\'re doing can have.\"\\n'\n",
      "                    '\\n'\n",
      "                    'The Patriots are slated to travel to Lambeau Field for '\n",
      "                    \"the Super Bowl, where the team's home opener will be \"\n",
      "                    'played.'}]\n"
     ]
    }
   ],
   "execution_count": 8
  }
 ],
 "metadata": {
  "kernelspec": {
   "display_name": "Python 3",
   "language": "python",
   "name": "python3"
  },
  "language_info": {
   "codemirror_mode": {
    "name": "ipython",
    "version": 2
   },
   "file_extension": ".py",
   "mimetype": "text/x-python",
   "name": "python",
   "nbconvert_exporter": "python",
   "pygments_lexer": "ipython2",
   "version": "2.7.6"
  }
 },
 "nbformat": 4,
 "nbformat_minor": 5
}
