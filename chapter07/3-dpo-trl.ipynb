{
 "cells": [
  {
   "cell_type": "code",
   "execution_count": null,
   "id": "b2968e26",
   "metadata": {},
   "outputs": [],
   "source": [
    "# train_dpo.py\n",
    "from datasets import load_dataset\n",
    "from trl import DPOConfig, DPOTrainer\n",
    "from transformers import AutoModelForCausalLM, AutoTokenizer\n",
    "\n",
    "model = AutoModelForCausalLM.from_pretrained(\"/root/sft/pretrained/Qwen2.5-0.5B-SFT/\")\n",
    "tokenizer = AutoTokenizer.from_pretrained(\"/root/sft/pretrained/Qwen2.5-0.5B-SFT/\")\n",
    "train_dataset = load_dataset(\n",
    "    \"./ultrafeedback_binarized\",\n",
    "    split=\"train\"\n",
    ")\n",
    "\n",
    "training_args = DPOConfig(\n",
    "    # 微调后的模型的保存路径\n",
    "    output_dir=\"Qwen2.5-0.5B-DPO-TRL\",\n",
    "    # 批次大小\n",
    "    per_device_train_batch_size=4,\n",
    "    # 梯度累积步数\n",
    "    gradient_accumulation_steps=8,\n",
    "    # 训练的epoch数量\n",
    "    num_train_epochs=1\n",
    ")\n",
    "\n",
    "trainer = DPOTrainer(\n",
    "    model=model, # 待微调的模型\n",
    "    args=training_args,\n",
    "    processing_class=tokenizer,\n",
    "    train_dataset=train_dataset\n",
    ")\n",
    "trainer.train()"
   ]
  }
 ],
 "metadata": {
  "kernelspec": {
   "display_name": "rlhf",
   "language": "python",
   "name": "python3"
  },
  "language_info": {
   "name": "python",
   "version": "3.10.18"
  }
 },
 "nbformat": 4,
 "nbformat_minor": 5
}
